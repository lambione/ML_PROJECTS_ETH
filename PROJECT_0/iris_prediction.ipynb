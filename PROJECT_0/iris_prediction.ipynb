{
 "cells": [
  {
   "cell_type": "markdown",
   "id": "854a1ca6",
   "metadata": {},
   "source": [
    "# __*IRIS PREDICTION*__"
   ]
  },
  {
   "cell_type": "markdown",
   "id": "db2d3d7f",
   "metadata": {},
   "source": [
    "## __IMPORT LIBRARIES__"
   ]
  },
  {
   "cell_type": "code",
   "execution_count": null,
   "id": "281cf7e0",
   "metadata": {},
   "outputs": [],
   "source": [
    "import pandas as pd \n",
    "import numpy as np\n",
    "import pandas as pd   \n",
    "import numpy as np       \n",
    "import matplotlib.pyplot as plt  \n",
    "import seaborn as sns\n",
    "\n",
    "from sklearn.decomposition import PCA\n",
    "from sklearn.metrics import confusion_matrix\n",
    "from sklearn.model_selection import train_test_split, cross_val_score\n",
    "from sklearn.ensemble import RandomForestClassifier\n",
    "from sklearn.preprocessing import StandardScaler\n",
    "\n",
    "from sklearn.metrics import accuracy_score,precision_score,recall_score,f1_score,balanced_accuracy_score,matthews_corrcoef\n",
    "from sklearn.model_selection import cross_val_score\n",
    "from sklearn.pipeline import Pipeline\n",
    "\n",
    "\n",
    "from sklearn.tree import DecisionTreeClassifier\n",
    "from sklearn.ensemble import RandomForestClassifier, ExtraTreesClassifier, GradientBoostingClassifier, AdaBoostClassifier, VotingClassifier, StackingClassifier\n",
    "from sklearn.linear_model import LogisticRegression, RidgeClassifier\n",
    "from sklearn.discriminant_analysis import LinearDiscriminantAnalysis\n",
    "from sklearn.neighbors import KNeighborsClassifier\n",
    "from sklearn.naive_bayes import GaussianNB, MultinomialNB, BernoulliNB\n",
    "from sklearn.svm import SVC\n",
    "from sklearn.neural_network import MLPClassifier\n",
    "from sklearn.multiclass import OneVsRestClassifier"
   ]
  },
  {
   "cell_type": "markdown",
   "id": "2a1b8212",
   "metadata": {},
   "source": [
    "## __EXPLORATORY DATA ANALYSIS__"
   ]
  },
  {
   "cell_type": "code",
   "execution_count": null,
   "id": "7ef672c4",
   "metadata": {},
   "outputs": [],
   "source": [
    "df = pd.read_csv('train.csv')\n",
    "df.head()"
   ]
  },
  {
   "cell_type": "markdown",
   "id": "96aac51d",
   "metadata": {},
   "source": [
    "### __SPLIT DATA__"
   ]
  },
  {
   "cell_type": "code",
   "execution_count": null,
   "id": "29f540dc",
   "metadata": {},
   "outputs": [],
   "source": [
    "num_cols = df.select_dtypes(include=np.number).columns.tolist()"
   ]
  },
  {
   "cell_type": "code",
   "execution_count": null,
   "id": "fa37f6a3",
   "metadata": {},
   "outputs": [],
   "source": [
    "print(\"Descriptive statistics for numerical features:\")\n",
    "display(df[num_cols].describe())"
   ]
  },
  {
   "cell_type": "markdown",
   "id": "a0e74f2a",
   "metadata": {},
   "source": [
    "### __MAIN NUMERIC EXPLORATION__"
   ]
  },
  {
   "cell_type": "code",
   "execution_count": null,
   "id": "2ffe4afc",
   "metadata": {},
   "outputs": [],
   "source": [
    "df.tail()"
   ]
  },
  {
   "cell_type": "code",
   "execution_count": null,
   "id": "b99165f6",
   "metadata": {},
   "outputs": [],
   "source": [
    "df.info()"
   ]
  },
  {
   "cell_type": "code",
   "execution_count": null,
   "id": "41df2d13",
   "metadata": {},
   "outputs": [],
   "source": [
    "df.describe()  "
   ]
  },
  {
   "cell_type": "code",
   "execution_count": null,
   "id": "9a385eb8",
   "metadata": {},
   "outputs": [],
   "source": [
    "df.columns"
   ]
  },
  {
   "cell_type": "code",
   "execution_count": null,
   "id": "aff15231",
   "metadata": {},
   "outputs": [],
   "source": [
    "df.dtypes "
   ]
  },
  {
   "cell_type": "code",
   "execution_count": null,
   "id": "1bb3199c",
   "metadata": {},
   "outputs": [],
   "source": [
    "df.isnull().sum()"
   ]
  },
  {
   "cell_type": "markdown",
   "id": "94af507a",
   "metadata": {},
   "source": [
    "WE CAN NOTICE THAT THERE ARE NO NULLS SO WE ARE SURE THAT WE CAN USE ALL SAMPLES"
   ]
  },
  {
   "cell_type": "code",
   "execution_count": null,
   "id": "07840322",
   "metadata": {},
   "outputs": [],
   "source": [
    "df.duplicated().sum()"
   ]
  },
  {
   "cell_type": "markdown",
   "id": "5ad3daa3",
   "metadata": {},
   "source": [
    "### __PAIRPLOT__"
   ]
  },
  {
   "cell_type": "code",
   "execution_count": null,
   "id": "956ff5df",
   "metadata": {},
   "outputs": [],
   "source": [
    "sns.pairplot(df, hue='target', diag_kind='kde', corner=True)\n",
    "plt.show()"
   ]
  },
  {
   "cell_type": "markdown",
   "id": "d25468ae",
   "metadata": {},
   "source": [
    "### __COUNTPLOT__\n",
    "\n",
    "Done to check imbalance"
   ]
  },
  {
   "cell_type": "code",
   "execution_count": null,
   "id": "58badfba",
   "metadata": {},
   "outputs": [],
   "source": [
    "sns.countplot(x='target', data=df)\n",
    "plt.title('Class Distribution')\n",
    "plt.show()"
   ]
  },
  {
   "cell_type": "markdown",
   "id": "8ea00b89",
   "metadata": {},
   "source": [
    "There probably is an imbalance on target variable 0"
   ]
  },
  {
   "cell_type": "markdown",
   "id": "64dd3004",
   "metadata": {},
   "source": [
    "### __BOXPLOT__"
   ]
  },
  {
   "cell_type": "code",
   "execution_count": null,
   "id": "428c9524",
   "metadata": {},
   "outputs": [],
   "source": [
    "for col in num_cols:\n",
    "    plt.figure(figsize=(8, 5))\n",
    "    sns.boxplot(x='target', y=col, data=df)\n",
    "    plt.title(f'{col} distribution by class')\n",
    "    plt.xlabel('Target class')\n",
    "    plt.ylabel(col)\n",
    "    plt.tight_layout()\n",
    "    plt.show()"
   ]
  },
  {
   "cell_type": "markdown",
   "id": "83080013",
   "metadata": {},
   "source": [
    "### __HEATMAP__"
   ]
  },
  {
   "cell_type": "code",
   "execution_count": null,
   "id": "2cda8ffa",
   "metadata": {},
   "outputs": [],
   "source": [
    "plt.figure(figsize=(10, 8))\n",
    "corr = df[num_cols].corr()\n",
    "sns.heatmap(corr, annot=True, cmap='coolwarm', fmt='.2f')\n",
    "plt.title('Correlation Matrix of Numerical Features')\n",
    "plt.tight_layout()\n",
    "plt.show()"
   ]
  },
  {
   "cell_type": "markdown",
   "id": "97e29b2e",
   "metadata": {},
   "source": [
    "## __MODELS__"
   ]
  },
  {
   "cell_type": "code",
   "execution_count": null,
   "id": "d031f0ed",
   "metadata": {},
   "outputs": [],
   "source": [
    "train_df = pd.read_csv('train.csv')\n",
    "\n",
    "train_df.columns = train_df.columns.str.replace(' ', '_').str.replace('(', '').str.replace(')', '')\n",
    "\n",
    "X = train_df.drop(columns=['target', 'id'])\n",
    "y = train_df['target']\n",
    "\n",
    "# NOTE: stratify is used to balance distributions\n",
    "# X_train, X_val, y_train, y_val = train_test_split(X, y, test_size=0.1, random_state=42, stratify=y)"
   ]
  },
  {
   "cell_type": "code",
   "execution_count": null,
   "id": "d2fced91",
   "metadata": {},
   "outputs": [],
   "source": [
    "print(X)"
   ]
  },
  {
   "cell_type": "markdown",
   "id": "54906509",
   "metadata": {},
   "source": [
    "## __LOGISTIC REGRESSION__"
   ]
  },
  {
   "attachments": {
    "image.png": {
     "image/png": "[encoded data removed]"
    }
   },
   "cell_type": "markdown",
   "id": "1aa6486e",
   "metadata": {},
   "source": [
    "Allowed gridsearch combinations for solvers and regularization methods (shows also support for multiclass settings):\n",
    "\n",
    "![image.png](attachment:image.png)"
   ]
  },
  {
   "cell_type": "code",
   "execution_count": null,
   "id": "a7d2e825",
   "metadata": {},
   "outputs": [],
   "source": [
    "from sklearn.model_selection import GridSearchCV\n",
    "from sklearn.metrics import accuracy_score\n",
    "\n",
    "param_grid = {\n",
    "    'penalty': ['l2', None],\n",
    "    'C': [0.01, 0.1, 1, 10, 100],\n",
    "    'solver': ['saga', 'newton-cg', 'sag', 'saga'],\n",
    "    'max_iter': [50,100,200,400,700,1000,10000],\n",
    "}\n",
    "\n",
    "lr_model = LogisticRegression(random_state=42, verbose=0)\n",
    "\n",
    "grid_search_lr = GridSearchCV(\n",
    "    estimator=lr_model,\n",
    "    param_grid=param_grid,\n",
    "    scoring='f1_macro',\n",
    "    cv=5,\n",
    "    n_jobs=-1,\n",
    ")\n",
    "\n",
    "grid_search_lr.fit(X, y)\n",
    "\n",
    "best_lr = grid_search_lr.best_estimator_\n",
    "print(\"Best parameters:\", grid_search_lr.best_params_)\n",
    "print(\"Best CV F1-macro:\", grid_search_lr.best_score_)\n",
    "\n",
    "\n",
    "# PCA visualization\n",
    "\n",
    "# # Convert X, y to numpy arrays for PCA visualization\n",
    "X_np = X.to_numpy()\n",
    "y_np = y.to_numpy()\n",
    "\n",
    "# PCA: reduce to 2D for visualization\n",
    "pca = PCA(n_components=2)\n",
    "X_pca = pca.fit_transform(X_np)\n",
    "\n",
    "# Create a 2D mesh grid in PCA space\n",
    "x_min, x_max = X_pca[:, 0].min() - 1, X_pca[:, 0].max() + 1\n",
    "y_min, y_max = X_pca[:, 1].min() - 1, X_pca[:, 1].max() + 1\n",
    "xx, yy = np.meshgrid(np.linspace(x_min, x_max, 300),\n",
    "                     np.linspace(y_min, y_max, 300))\n",
    "\n",
    "# Map grid points back to original feature space\n",
    "grid_pca = np.c_[xx.ravel(), yy.ravel()]\n",
    "grid_original = pca.inverse_transform(grid_pca)\n",
    "\n",
    "# Predict class for each grid point\n",
    "Z = best_lr.predict(grid_original)\n",
    "Z = Z.reshape(xx.shape)\n",
    "\n",
    "# Plot decision boundaries\n",
    "plt.figure(figsize=(10, 7))\n",
    "plt.contourf(xx, yy, Z, alpha=0.3, cmap='Set1')\n",
    "\n",
    "# Overlay data points\n",
    "plt.scatter(X_pca[:, 0], X_pca[:, 1], c=y_np, edgecolor='k', s=50, cmap='Set1')\n",
    "\n",
    "plt.xlabel(\"PCA Component 1\")\n",
    "plt.ylabel(\"PCA Component 2\")\n",
    "plt.title(\"Logistic Regression Decision Boundary (PCA projection)\")\n",
    "plt.show()\n"
   ]
  },
  {
   "cell_type": "markdown",
   "id": "ff66cf9a",
   "metadata": {},
   "source": [
    "## __ALL METHODS__"
   ]
  },
  {
   "cell_type": "code",
   "execution_count": null,
   "id": "5cccec52",
   "metadata": {},
   "outputs": [],
   "source": [
    "classifiers = {\n",
    "    \"Decision Tree\": DecisionTreeClassifier(random_state=42),\n",
    "    \"Random Forest\": RandomForestClassifier(n_estimators=200, random_state=42),\n",
    "    \"Extra Trees\": ExtraTreesClassifier(n_estimators=200, random_state=42),\n",
    "    \"Gradient Boosting\": GradientBoostingClassifier(n_estimators=200, random_state=42),\n",
    "    \"AdaBoost\": AdaBoostClassifier(n_estimators=200, random_state=42),\n",
    "    \"Logistic Regression\": LogisticRegression(multi_class='multinomial', solver='lbfgs', max_iter=1000, random_state=42),\n",
    "    \"Ridge Classifier\": RidgeClassifier(),\n",
    "    \"LDA\": LinearDiscriminantAnalysis(),\n",
    "    \"kNN\": KNeighborsClassifier(n_neighbors=5),\n",
    "    \"GaussianNB\": GaussianNB(),\n",
    "    \"SVC (OvR)\": OneVsRestClassifier(SVC(kernel='rbf', probability=True)),\n",
    "    \"MLP\": MLPClassifier(hidden_layer_sizes=(50,50), max_iter=1000, random_state=42)\n",
    "}"
   ]
  },
  {
   "cell_type": "code",
   "execution_count": null,
   "id": "d3ba431c",
   "metadata": {},
   "outputs": [],
   "source": [
    "# NOTE: instantiate arrays where to keep the accuracy for better visualization later\n",
    "results = []\n",
    "results_5 = []\n",
    "results_10 = []\n",
    "\n",
    "# NOTE: Iterate over all the classifiers previously defined (for the moment not fine-tuned)\n",
    "for name, clf in classifiers.items():\n",
    "    clf.fit(X_train_scaled, y_train)\n",
    "    y_pred = clf.predict(X_val_scaled)\n",
    "\n",
    "    # NOTE: Get the different scores, general one which tends to overfit given the small dataset size and cross validated one more reliable.\n",
    "    acc = accuracy_score(y_val, y_pred)\n",
    "    precision = precision_score(y_val, y_pred, average='macro')\n",
    "    recall = recall_score(y_val, y_pred, average='macro')\n",
    "    f1 = f1_score(y_val, y_pred, average='macro')\n",
    "    balanced_acc = balanced_accuracy_score(y_val, y_pred)\n",
    "   \n",
    "    results.append({\n",
    "            'Classifier': name,\n",
    "            'Accuracy': acc,\n",
    "            'Precision': precision,\n",
    "            'Recall': recall,\n",
    "            'F1-score': f1,\n",
    "            'Balanced Accuracy': balanced_acc,\n",
    "        })\n",
    "    \n",
    "   # Cross-validation (use Pipeline for scaling if necessary)\n",
    "    pipe = Pipeline([('scaler', StandardScaler()), ('clf', clf)])\n",
    "    scores_5 = cross_val_score(pipe, X, y, cv=5)\n",
    "    scores_10 = cross_val_score(pipe, X, y, cv=10)\n",
    "    \n",
    "    results_5.append((name, np.mean(scores_5)))\n",
    "    results_10.append((name, np.mean(scores_10)))\n",
    "\n",
    "    print(f\"--- {name} ---\")\n",
    "    print(f\"Accuracy: {acc:.4f}\")\n",
    "    print(f\"Precision (macro): {precision:.4f}\")\n",
    "    print(f\"Recall (macro): {recall:.4f}\")\n",
    "    print(f\"F1-score (macro): {f1:.4f}\")\n",
    "    print(f\"Balanced Accuracy: {balanced_acc:.4f}\")\n",
    "    print(f\"CV 5-fold Accuracy: {np.mean(scores_5):.4f}\")\n",
    "    print(f\"CV 10-fold Accuracy: {np.mean(scores_10):.4f}\\n\")"
   ]
  },
  {
   "cell_type": "code",
   "execution_count": null,
   "id": "c6195d47",
   "metadata": {},
   "outputs": [],
   "source": [
    "results_df = pd.DataFrame(results).sort_values(by='Accuracy', ascending=False)\n",
    "results_df_5 = pd.DataFrame(results_5, columns=['Classifier', 'CV_5_Accuracy']).sort_values(by='CV_5_Accuracy', ascending=False)\n",
    "results_df_10 = pd.DataFrame(results_10, columns=['Classifier', 'CV_10_Accuracy']).sort_values(by='CV_10_Accuracy', ascending=False)\n",
    "\n",
    "display(results_df)\n",
    "display(results_df_5)\n",
    "display(results_df_10)"
   ]
  }
 ],
 "metadata": {
  "kernelspec": {
   "display_name": "base",
   "language": "python",
   "name": "python3"
  },
  "language_info": {
   "codemirror_mode": {
    "name": "ipython",
    "version": 3
   },
   "file_extension": ".py",
   "mimetype": "text/x-python",
   "name": "python",
   "nbconvert_exporter": "python",
   "pygments_lexer": "ipython3",
   "version": "3.12.7"
  }
 },
 "nbformat": 4,
 "nbformat_minor": 5
}
